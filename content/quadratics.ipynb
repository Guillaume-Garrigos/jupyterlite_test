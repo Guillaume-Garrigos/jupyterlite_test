{
 "cells": [
  {
   "cell_type": "code",
   "execution_count": 1,
   "metadata": {},
   "outputs": [],
   "source": [
    "import dependencies"
   ]
  },
  {
   "cell_type": "code",
   "execution_count": 1,
   "metadata": {},
   "outputs": [],
   "source": [
    "import autograd.numpy as np\n",
    "import matplotlib.pyplot as plt\n",
    "#plt.rcParams.update({'figure.max_open_warning': 0})\n",
    "# don't do this see https://github.com/jupyterlite/jupyterlite/issues/838\n",
    "\n",
    "from nice_functions import widget_quadratic"
   ]
  },
  {
   "cell_type": "markdown",
   "metadata": {},
   "source": [
    "On s'intéresse à la visualisation des fonctions quadratiques sur $\\mathbb{R}^2$, c'est-à-dire des fonctions $f : \\mathbb{R}^2 \\to \\mathbb{R}$ définies par\n",
    "$$f(x) = \\frac{1}{2} \\langle Ax,x \\rangle + \\langle b,x \\rangle + c,$$\n",
    "où on supposera pour simplifier que $c=0$, et où\n",
    "$$\n",
    "A=\n",
    "\\begin{pmatrix}\n",
    "A_{11} & A_{12} \\\\ A_{21} & A_{22}\n",
    "\\end{pmatrix}\n",
    "\\in \\mathcal{M}_{2}(\\mathbb{R})\n",
    "\\quad \\text{ et } \\quad \n",
    "b = \n",
    "\\begin{pmatrix}\n",
    "b_1 \\\\ b_2\n",
    "\\end{pmatrix}\n",
    "\\in \\mathbb{R}^2.\n",
    "$$\n",
    "La commande suivante permet de visualiser le graphe de $f$, et de changer les coefficients de $A$ et $b$."
   ]
  },
  {
   "cell_type": "code",
   "execution_count": 2,
   "metadata": {},
   "outputs": [
    {
     "data": {
      "application/vnd.jupyter.widget-view+json": {
       "model_id": "48822e72c855430eb0ee96db0c14c6b1",
       "version_major": 2,
       "version_minor": 0
      },
      "text/plain": [
       "AppLayout(children=(GridspecLayout(children=(FloatSlider(value=2.0, description='$A_{11}$', layout=Layout(grid…"
      ]
     },
     "execution_count": 2,
     "metadata": {},
     "output_type": "execute_result"
    }
   ],
   "source": [
    "widget_quadratic(graph=True)"
   ]
  },
  {
   "cell_type": "code",
   "execution_count": null,
   "metadata": {},
   "outputs": [],
   "source": []
  }
 ],
 "metadata": {
  "kernelspec": {
   "display_name": "Python 3 (ipykernel)",
   "language": "python",
   "name": "python3"
  },
  "language_info": {
   "codemirror_mode": {
    "name": "ipython",
    "version": 3
   },
   "file_extension": ".py",
   "mimetype": "text/x-python",
   "name": "python",
   "nbconvert_exporter": "python",
   "pygments_lexer": "ipython3",
   "version": "3.10.8"
  }
 },
 "nbformat": 4,
 "nbformat_minor": 4
}
